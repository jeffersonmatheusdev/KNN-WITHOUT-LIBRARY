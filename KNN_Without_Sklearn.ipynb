{
  "nbformat": 4,
  "nbformat_minor": 0,
  "metadata": {
    "colab": {
      "name": "Untitled4.ipynb",
      "provenance": []
    },
    "kernelspec": {
      "name": "python3",
      "display_name": "Python 3"
    },
    "language_info": {
      "name": "python"
    }
  },
  "cells": [
    {
      "cell_type": "code",
      "metadata": {
        "id": "A-yitMrjyjmH"
      },
      "source": [
        "import math"
      ],
      "execution_count": 1,
      "outputs": []
    },
    {
      "cell_type": "code",
      "metadata": {
        "id": "5n-FlqnEypLp"
      },
      "source": [
        "class KNN:\n",
        "    def __init__(self):\n",
        "        neighbors = 1\n",
        "        X_train = None\n",
        "        Y_train = None\n",
        "\n",
        "    def calcule_distance_euclidienne(self, x1, y1, x2, y2):\n",
        "        return math.sqrt((x2 - x1)**2 + (y2 - y1)**2)\n",
        "    \n",
        "    def fit(self, X_train, Y_train):\n",
        "        self.X_train = X_train\n",
        "        self.Y_train = Y_train\n",
        "    \n",
        "    def sortOnFloat(self, sublist):\n",
        "        return [v for v in sublist if isinstance(v, float)]\n",
        "\n",
        "    def predict(self, X_test):\n",
        "        n_neighbors = 5\n",
        "        X_train = self.X_train\n",
        "        Y_train = self.Y_train\n",
        "        result = []\n",
        "\n",
        "        for X_pos, Y_pos in X_test:\n",
        "            distances = []\n",
        "            for X_train_element, Y_train_element in zip(X_train, Y_train):\n",
        "\n",
        "                distances.append(\n",
        "                    [\n",
        "                        self.calcule_distance_euclidienne(X_pos, Y_pos, X_train_element[0], X_train_element[1]),\n",
        "                        Y_train_element\n",
        "                    ]\n",
        "                )\n",
        "            result.append(max(sorted(distances, key=self.sortOnFloat)[:n_neighbors][::-1])[1])\n",
        "        \n",
        "        if len(result) == 1:\n",
        "            return result[0]\n",
        "        else:\n",
        "            return result"
      ],
      "execution_count": 2,
      "outputs": []
    },
    {
      "cell_type": "code",
      "metadata": {
        "id": "dAMQpu9lysTO"
      },
      "source": [
        "# Instantiating the class\n",
        "knn = KNN()"
      ],
      "execution_count": 3,
      "outputs": []
    },
    {
      "cell_type": "code",
      "metadata": {
        "id": "-SAb-UYAyu13"
      },
      "source": [
        "# Set X_train and Y_train\n",
        "X_train = [[-10, -10], [-5, -5], [0, 0], [5, 5], [10, 10], [15, 15]]\n",
        "Y_train = [\"Quadrado\", \"Quadrado\", \"Quadrado\", \"Triangulo\", \"Triangulo\", \"Triangulo\"]"
      ],
      "execution_count": 4,
      "outputs": []
    },
    {
      "cell_type": "code",
      "metadata": {
        "id": "3rT0X04bywsf"
      },
      "source": [
        "# Set fit data\n",
        "fit = knn.fit(X_train, Y_train)"
      ],
      "execution_count": 5,
      "outputs": []
    },
    {
      "cell_type": "code",
      "metadata": {
        "id": "BBKqv95Ry0rH"
      },
      "source": [
        "# Set test data\n",
        "X_test = [[2.0, 2.5], [0.5, 7.5]]"
      ],
      "execution_count": 6,
      "outputs": []
    },
    {
      "cell_type": "code",
      "metadata": {
        "id": "viVIBovyy11Z"
      },
      "source": [
        "# Save predict in variable\n",
        "predict = knn.predict(X_test)"
      ],
      "execution_count": 7,
      "outputs": []
    },
    {
      "cell_type": "code",
      "metadata": {
        "id": "nzOv9pJOy42x"
      },
      "source": [
        "# Print predict\n",
        "print(predict)"
      ],
      "execution_count": null,
      "outputs": []
    }
  ]
}