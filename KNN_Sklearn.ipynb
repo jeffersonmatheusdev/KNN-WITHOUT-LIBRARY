{
  "nbformat": 4,
  "nbformat_minor": 0,
  "metadata": {
    "colab": {
      "name": "KNN SKLEARN",
      "provenance": [],
      "collapsed_sections": []
    },
    "kernelspec": {
      "name": "python3",
      "display_name": "Python 3"
    },
    "language_info": {
      "name": "python"
    }
  },
  "cells": [
    {
      "cell_type": "code",
      "metadata": {
        "id": "6z55t2RTMBO3"
      },
      "source": [
        "from sklearn.neighbors import KNeighborsClassifier"
      ],
      "execution_count": 8,
      "outputs": []
    },
    {
      "cell_type": "code",
      "metadata": {
        "id": "VRrvZcosMWJN"
      },
      "source": [
        "# Set X_train and Y_train\n",
        "X_train = [[-10, -10], [-5, -5], [0, 0], [5, 5], [10, 10], [15, 15]]\n",
        "Y_train = [\"Quadrado\", \"Quadrado\", \"Quadrado\", \"Triangulo\", \"Triangulo\", \"Triangulo\"]"
      ],
      "execution_count": 9,
      "outputs": []
    },
    {
      "cell_type": "code",
      "metadata": {
        "id": "bIf4f45VPqbd"
      },
      "source": [
        "# Instantiating the class\n",
        "knn = KNeighborsClassifier(n_neighbors=3)"
      ],
      "execution_count": 10,
      "outputs": []
    },
    {
      "cell_type": "code",
      "metadata": {
        "id": "brlOPeexPvEK"
      },
      "source": [
        "# Set fit data\n",
        "knn.fit(X_train, Y_train)"
      ],
      "execution_count": null,
      "outputs": []
    },
    {
      "cell_type": "code",
      "metadata": {
        "id": "eHNCzMW4P0TK"
      },
      "source": [
        "# Set test data\n",
        "X_predict = [[2.5, 2.5], [0.5, 7.5]]"
      ],
      "execution_count": 12,
      "outputs": []
    },
    {
      "cell_type": "code",
      "metadata": {
        "id": "zmLg345GP8BD"
      },
      "source": [
        "# Save predict in variable\n",
        "predict = knn.predict(X_predict)"
      ],
      "execution_count": 13,
      "outputs": []
    },
    {
      "cell_type": "code",
      "metadata": {
        "id": "48eckBqo07y9"
      },
      "source": [
        "# Print predict\n",
        "print(predict)"
      ],
      "execution_count": null,
      "outputs": []
    }
  ]
}